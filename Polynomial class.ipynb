{
 "cells": [
  {
   "cell_type": "markdown",
   "metadata": {},
   "source": [
    "# Math Tutoring Notebook"
   ]
  },
  {
   "cell_type": "code",
   "execution_count": 44,
   "metadata": {},
   "outputs": [
    {
     "data": {
      "text/html": [
       "<script>requirejs.config({paths: { 'plotly': ['https://cdn.plot.ly/plotly-latest.min']},});if(!window.Plotly) {{require(['plotly'],function(plotly) {window.Plotly=plotly;});}}</script>"
      ],
      "text/vnd.plotly.v1+html": [
       "<script>requirejs.config({paths: { 'plotly': ['https://cdn.plot.ly/plotly-latest.min']},});if(!window.Plotly) {{require(['plotly'],function(plotly) {window.Plotly=plotly;});}}</script>"
      ]
     },
     "metadata": {},
     "output_type": "display_data"
    }
   ],
   "source": [
    "import numpy as np\n",
    "import pandas as pd\n",
    "import matplotlib.pyplot as plt\n",
    "\n",
    "from plotly.offline import init_notebook_mode, plot, iplot\n",
    "from plotly.graph_objs import *\n",
    "init_notebook_mode(connected=True)\n",
    "%matplotlib inline"
   ]
  },
  {
   "cell_type": "code",
   "execution_count": 45,
   "metadata": {},
   "outputs": [],
   "source": [
    "class Polynomial:\n",
    "    '''Coeffients are reversed to allow a more natural input format\n",
    "    eg: 3x^2 -1 -> Polynomial(3,0,-1)'''\n",
    "    \n",
    "    def __init__(self, *coefficients):\n",
    "        self.coefficients = coefficients[::-1] #reversed\n",
    "        \n",
    "    def __repr__(self):\n",
    "        return \"Polynomial\" + str(self.coefficients[::-1])\n",
    "    \n",
    "    def __call__(self,x):\n",
    "        res = 0\n",
    "        for index,coeff in enumerate(self.coefficients):\n",
    "            res += coeff * np.power(x,index)\n",
    "        return res\n",
    "    \n",
    "    def __str__(self):\n",
    "        res = \"\"\n",
    "        if len(self.coefficients) == 0:\n",
    "            return\n",
    "        elif len(self.coefficients) == 1:\n",
    "            return str(self.coefficients[0])\n",
    "        elif len(self.coefficients) == 2:\n",
    "            res = str(self.coefficients[0]) +  \" + \" + str(self.coefficients[1]) + \"x\"\n",
    "            return self.__class__.prettify(res)\n",
    "        else:\n",
    "            res = str(self.coefficients[0]) +  \" + \" + str(self.coefficients[1]) + \"x\"\n",
    "            for index,coeff in enumerate(self.coefficients[2::]):\n",
    "                res += \" + \" + str(coeff) + \"x^\" + str(index + 2)\n",
    "            return self.__class__.prettify(res)\n",
    "        \n",
    "    def calc_interval(self,N=10):\n",
    "        '''Evaluates Polynomial across integer interval of [-N,N]'''\n",
    "        N = np.abs(N)\n",
    "        return np.vectorize(lambda x: self.__call__(x))(np.arange(-N,N+1))\n",
    "    \n",
    "    def calc_range(self,N=10):\n",
    "        '''Evaluates Polynomial across interval of [-N,N] split into 51 equal pieces'''\n",
    "        N = np.abs(N)\n",
    "        return np.vectorize(lambda x: self.__call__(x))(np.linspace(-N,N+1,51,True))\n",
    "    \n",
    "    def plot(self,N=10):\n",
    "        ''' Plot Polynomial over range -10,10'''\n",
    "        N = np.abs(N)\n",
    "        iplot(Figure(data=[Scatter(x=np.linspace(-N,N+1,51,True),\n",
    "                   y=self.calc_range(N),\n",
    "                   opacity=.7,\n",
    "                   line={'width':3},\n",
    "                   mode='lines+markers',\n",
    "                   marker={'color':'#C1F8BE'})],\n",
    "                   layout=Layout(title = \"<b>y = {0}<br><b>x in range [-{1},{1}]\".format(self.__str__(),N),\n",
    "                             xaxis={'autotick':False})\n",
    "                    ))\n",
    "        \n",
    "    def degrees(self):\n",
    "        return len(self.coefficients)\n",
    "    \n",
    "    @staticmethod\n",
    "    def prettify(res):\n",
    "        return ' + '.join([g for g in res.replace(' ','').split('+')[::-1] if g.startswith('0') is False])\n",
    "    \n",
    "    @staticmethod\n",
    "    def zip_longest(iter1,iter2,fillchar=None):\n",
    "        for i in range(max(len(iter1),len(iter2))):\n",
    "            if i >= len(iter1):\n",
    "                yield (fillchar,iter2[i])\n",
    "            elif i >= len(iter2):\n",
    "                yield (iter[i],fillchar)\n",
    "            else:\n",
    "                yield (iter1[i],iter2[i])\n",
    "            i += 1\n",
    "\n",
    "    def __getitem__(self,index):\n",
    "        if index <= self.degrees():\n",
    "            return self.coefficients[index]\n",
    "        else:\n",
    "            print 'index outside of range!'\n",
    "            return\n",
    "    \n",
    "    def __add__(self,other):\n",
    "        if isinstance(other,Polynomial):\n",
    "            c1 = self.coefficients[::-1]\n",
    "            c2 = other.coefficients[::-1]\n",
    "            res = [sum(x) for x in self.__class__.zip_longest(c1,c2)]\n",
    "            return self.__class__(*res)\n",
    "        else:\n",
    "            if self.coefficients:\n",
    "                res = list(self.coefficients)\n",
    "                res[~0] += other\n",
    "            return self.__class__(*res)\n",
    "            \n",
    "    \n",
    "    def __neg__(self):\n",
    "        return self.__class__(*[-c for c in self.coefficients])\n",
    "    \n",
    "    def __sub__(self,other):\n",
    "        return self.__add__(-other)\n",
    "    \n",
    "    def __mul__(self,other):\n",
    "        if isinstance(other,Polynomial):\n",
    "            c1 = self.coefficients[::-1]\n",
    "            c2 = other.coefficients[::-1]\n",
    "            res = [0]*(len(c1) + len(c2) - 1)\n",
    "            for sindex, scoeff in enumerate(c1):\n",
    "                for oindex, ocoeff in enumerate(c2):\n",
    "                    res[sindex+oindex] += scoeff*ocoeff\n",
    "            return self.__class__(*res)\n",
    "        else:\n",
    "            return self.__class__(*[coeff * other for coeff in self.coefficients])\n",
    "        \n",
    "#     def __exp__(self,other):\n",
    "#         if isinstance(other,Polynomial):\n",
    "#             if other.degrees \n",
    "        \n",
    "    def __div__(self,other):\n",
    "        if isinstance(other,Polynomial):\n",
    "            return self.__mul__(self.__class__(*[1/c for c in other.coefficients]))\n",
    "        else:\n",
    "            return self.__class__(*[coeff / other for coeff in other.coefficients])\n",
    "        \n",
    "    def differentiate(self):\n",
    "        def mul(a,b):\n",
    "            return a*b\n",
    "        if self.degrees() > 1:\n",
    "            res = [mul(i,j) for i,j in zip(list(range(self.degrees()))[1:], (self.coefficients[1:]))]\n",
    "            return Polynomial(*res[::-1])\n",
    "        elif self.degrees == 1:\n",
    "            print 'No x term to differentiate!'\n",
    "            return"
   ]
  },
  {
   "cell_type": "code",
   "execution_count": 55,
   "metadata": {},
   "outputs": [
    {
     "name": "stdout",
     "output_type": "stream",
     "text": [
      "684\n"
     ]
    }
   ],
   "source": [
    "a=Polynomial(1,2,3)\n",
    "b=Polynomial(4,0,2)\n",
    "print a(3) * b(3)"
   ]
  },
  {
   "cell_type": "code",
   "execution_count": 56,
   "metadata": {},
   "outputs": [
    {
     "name": "stdout",
     "output_type": "stream",
     "text": [
      "684\n"
     ]
    }
   ],
   "source": [
    "print (a*b)(3)"
   ]
  },
  {
   "cell_type": "code",
   "execution_count": 21,
   "metadata": {},
   "outputs": [
    {
     "data": {
      "text/plain": [
       "0.0009157509157509158"
      ]
     },
     "execution_count": 21,
     "metadata": {},
     "output_type": "execute_result"
    }
   ],
   "source": [
    "11./(6.*2002.)"
   ]
  },
  {
   "cell_type": "code",
   "execution_count": null,
   "metadata": {},
   "outputs": [],
   "source": [
    "(y1-y2)/(x1-x2)"
   ]
  },
  {
   "cell_type": "code",
   "execution_count": 66,
   "metadata": {},
   "outputs": [
    {
     "data": {
      "application/vnd.plotly.v1+json": {
       "data": [
        {
         "type": "scatter",
         "x": [
          0,
          1,
          2,
          3,
          4,
          5,
          6,
          7,
          8,
          9
         ],
         "y": [
          2,
          6,
          10,
          14,
          18,
          22,
          26,
          30,
          34,
          38
         ]
        }
       ],
       "layout": {}
      },
      "text/html": [
       "<div id=\"64c08e82-472a-4ca8-8cf1-b8ef07b818a8\" style=\"height: 525px; width: 100%;\" class=\"plotly-graph-div\"></div><script type=\"text/javascript\">require([\"plotly\"], function(Plotly) { window.PLOTLYENV=window.PLOTLYENV || {};window.PLOTLYENV.BASE_URL=\"https://plot.ly\";Plotly.newPlot(\"64c08e82-472a-4ca8-8cf1-b8ef07b818a8\", [{\"y\": [2, 6, 10, 14, 18, 22, 26, 30, 34, 38], \"x\": [0, 1, 2, 3, 4, 5, 6, 7, 8, 9], \"type\": \"scatter\"}], {}, {\"linkText\": \"Export to plot.ly\", \"showLink\": true})});</script>"
      ],
      "text/vnd.plotly.v1+html": [
       "<div id=\"64c08e82-472a-4ca8-8cf1-b8ef07b818a8\" style=\"height: 525px; width: 100%;\" class=\"plotly-graph-div\"></div><script type=\"text/javascript\">require([\"plotly\"], function(Plotly) { window.PLOTLYENV=window.PLOTLYENV || {};window.PLOTLYENV.BASE_URL=\"https://plot.ly\";Plotly.newPlot(\"64c08e82-472a-4ca8-8cf1-b8ef07b818a8\", [{\"y\": [2, 6, 10, 14, 18, 22, 26, 30, 34, 38], \"x\": [0, 1, 2, 3, 4, 5, 6, 7, 8, 9], \"type\": \"scatter\"}], {}, {\"linkText\": \"Export to plot.ly\", \"showLink\": true})});</script>"
      ]
     },
     "metadata": {},
     "output_type": "display_data"
    }
   ],
   "source": [
    "\n",
    "iplot([Scatter(x=np.arange(10),y=np.vectorize(lambda x: Polynomial(4,2)(x))(np.arange(10)))])"
   ]
  },
  {
   "cell_type": "code",
   "execution_count": null,
   "metadata": {},
   "outputs": [],
   "source": [
    "(x1,y1), (x2,y2)"
   ]
  },
  {
   "cell_type": "code",
   "execution_count": 10,
   "metadata": {},
   "outputs": [],
   "source": [
    "x = [2002,2003,2004,  2005,2006  ,2007]\n",
    "y = [11  ,16,   23,    33,  42,   47]\n",
    "\n",
    "\n",
    "data = "
   ]
  },
  {
   "cell_type": "code",
   "execution_count": null,
   "metadata": {},
   "outputs": [],
   "source": [
    "2002-2004 = (2002,11) (2004,23) = (23-11)/(2004-2002) = 12/2 = 6\n",
    "2003-2005 = 8.5\n",
    "2004-2006 = 9.5\n",
    "2005-2007 = 7"
   ]
  },
  {
   "cell_type": "code",
   "execution_count": 12,
   "metadata": {},
   "outputs": [
    {
     "data": {
      "text/plain": [
       "4.0"
      ]
     },
     "execution_count": 12,
     "metadata": {},
     "output_type": "execute_result"
    }
   ],
   "source": [
    "42/10.5"
   ]
  },
  {
   "cell_type": "code",
   "execution_count": 19,
   "metadata": {
    "scrolled": false
   },
   "outputs": [
    {
     "data": {
      "application/vnd.plotly.v1+json": {
       "data": [
        {
         "line": {
          "width": 3
         },
         "marker": {
          "color": "#C1F8BE"
         },
         "mode": "lines+markers",
         "opacity": 0.7,
         "type": "scatter",
         "x": [
          -10,
          -9.58,
          -9.16,
          -8.74,
          -8.32,
          -7.9,
          -7.48,
          -7.0600000000000005,
          -6.640000000000001,
          -6.220000000000001,
          -5.8,
          -5.38,
          -4.96,
          -4.54,
          -4.12,
          -3.7,
          -3.2800000000000002,
          -2.8600000000000003,
          -2.4400000000000004,
          -2.0200000000000005,
          -1.5999999999999996,
          -1.1799999999999997,
          -0.7599999999999998,
          -0.33999999999999986,
          0.08000000000000007,
          0.5,
          0.9199999999999999,
          1.3399999999999999,
          1.7599999999999998,
          2.1799999999999997,
          2.5999999999999996,
          3.0199999999999996,
          3.4399999999999995,
          3.8599999999999994,
          4.279999999999999,
          4.699999999999999,
          5.119999999999999,
          5.539999999999999,
          5.959999999999999,
          6.379999999999999,
          6.800000000000001,
          7.219999999999999,
          7.640000000000001,
          8.059999999999999,
          8.48,
          8.899999999999999,
          9.32,
          9.739999999999998,
          10.16,
          10.579999999999998,
          11
         ],
         "y": [
          -142,
          -136.12,
          -130.24,
          -124.36,
          -118.48,
          -112.60000000000001,
          -106.72,
          -100.84,
          -94.96000000000001,
          -89.08000000000001,
          -83.2,
          -77.32,
          -71.44,
          -65.56,
          -59.68,
          -53.800000000000004,
          -47.92,
          -42.040000000000006,
          -36.160000000000004,
          -30.28000000000001,
          -24.399999999999995,
          -18.519999999999996,
          -12.639999999999997,
          -6.759999999999998,
          -0.879999999999999,
          5,
          10.879999999999999,
          16.759999999999998,
          22.639999999999997,
          28.519999999999996,
          34.39999999999999,
          40.279999999999994,
          46.16,
          52.03999999999999,
          57.91999999999999,
          63.79999999999998,
          69.67999999999999,
          75.55999999999999,
          81.43999999999998,
          87.32,
          93.20000000000002,
          99.07999999999998,
          104.96000000000001,
          110.83999999999997,
          116.72,
          122.59999999999998,
          128.48000000000002,
          134.35999999999999,
          140.24,
          146.11999999999998,
          152
         ]
        }
       ],
       "layout": {
        "title": "<b>y = 14x + -2<br><b>x in range [-10,10]",
        "xaxis": {
         "autotick": false
        }
       }
      },
      "text/html": [
       "<div id=\"eeb770d0-e6ba-4ae1-8255-f1d67e379d7b\" style=\"height: 525px; width: 100%;\" class=\"plotly-graph-div\"></div><script type=\"text/javascript\">require([\"plotly\"], function(Plotly) { window.PLOTLYENV=window.PLOTLYENV || {};window.PLOTLYENV.BASE_URL=\"https://plot.ly\";Plotly.newPlot(\"eeb770d0-e6ba-4ae1-8255-f1d67e379d7b\", [{\"opacity\": 0.7, \"marker\": {\"color\": \"#C1F8BE\"}, \"mode\": \"lines+markers\", \"y\": [-142.0, -136.12, -130.24, -124.36, -118.48, -112.60000000000001, -106.72, -100.84, -94.96000000000001, -89.08000000000001, -83.2, -77.32, -71.44, -65.56, -59.68, -53.800000000000004, -47.92, -42.040000000000006, -36.160000000000004, -30.28000000000001, -24.399999999999995, -18.519999999999996, -12.639999999999997, -6.759999999999998, -0.879999999999999, 5.0, 10.879999999999999, 16.759999999999998, 22.639999999999997, 28.519999999999996, 34.39999999999999, 40.279999999999994, 46.16, 52.03999999999999, 57.91999999999999, 63.79999999999998, 69.67999999999999, 75.55999999999999, 81.43999999999998, 87.32, 93.20000000000002, 99.07999999999998, 104.96000000000001, 110.83999999999997, 116.72, 122.59999999999998, 128.48000000000002, 134.35999999999999, 140.24, 146.11999999999998, 152.0], \"x\": [-10.0, -9.58, -9.16, -8.74, -8.32, -7.9, -7.48, -7.0600000000000005, -6.640000000000001, -6.220000000000001, -5.8, -5.38, -4.96, -4.54, -4.12, -3.7, -3.2800000000000002, -2.8600000000000003, -2.4400000000000004, -2.0200000000000005, -1.5999999999999996, -1.1799999999999997, -0.7599999999999998, -0.33999999999999986, 0.08000000000000007, 0.5, 0.9199999999999999, 1.3399999999999999, 1.7599999999999998, 2.1799999999999997, 2.5999999999999996, 3.0199999999999996, 3.4399999999999995, 3.8599999999999994, 4.279999999999999, 4.699999999999999, 5.119999999999999, 5.539999999999999, 5.959999999999999, 6.379999999999999, 6.800000000000001, 7.219999999999999, 7.640000000000001, 8.059999999999999, 8.48, 8.899999999999999, 9.32, 9.739999999999998, 10.16, 10.579999999999998, 11.0], \"line\": {\"width\": 3}, \"type\": \"scatter\"}], {\"xaxis\": {\"autotick\": false}, \"title\": \"<b>y = 14x + -2<br><b>x in range [-10,10]\"}, {\"linkText\": \"Export to plot.ly\", \"showLink\": true})});</script>"
      ],
      "text/vnd.plotly.v1+html": [
       "<div id=\"eeb770d0-e6ba-4ae1-8255-f1d67e379d7b\" style=\"height: 525px; width: 100%;\" class=\"plotly-graph-div\"></div><script type=\"text/javascript\">require([\"plotly\"], function(Plotly) { window.PLOTLYENV=window.PLOTLYENV || {};window.PLOTLYENV.BASE_URL=\"https://plot.ly\";Plotly.newPlot(\"eeb770d0-e6ba-4ae1-8255-f1d67e379d7b\", [{\"opacity\": 0.7, \"marker\": {\"color\": \"#C1F8BE\"}, \"mode\": \"lines+markers\", \"y\": [-142.0, -136.12, -130.24, -124.36, -118.48, -112.60000000000001, -106.72, -100.84, -94.96000000000001, -89.08000000000001, -83.2, -77.32, -71.44, -65.56, -59.68, -53.800000000000004, -47.92, -42.040000000000006, -36.160000000000004, -30.28000000000001, -24.399999999999995, -18.519999999999996, -12.639999999999997, -6.759999999999998, -0.879999999999999, 5.0, 10.879999999999999, 16.759999999999998, 22.639999999999997, 28.519999999999996, 34.39999999999999, 40.279999999999994, 46.16, 52.03999999999999, 57.91999999999999, 63.79999999999998, 69.67999999999999, 75.55999999999999, 81.43999999999998, 87.32, 93.20000000000002, 99.07999999999998, 104.96000000000001, 110.83999999999997, 116.72, 122.59999999999998, 128.48000000000002, 134.35999999999999, 140.24, 146.11999999999998, 152.0], \"x\": [-10.0, -9.58, -9.16, -8.74, -8.32, -7.9, -7.48, -7.0600000000000005, -6.640000000000001, -6.220000000000001, -5.8, -5.38, -4.96, -4.54, -4.12, -3.7, -3.2800000000000002, -2.8600000000000003, -2.4400000000000004, -2.0200000000000005, -1.5999999999999996, -1.1799999999999997, -0.7599999999999998, -0.33999999999999986, 0.08000000000000007, 0.5, 0.9199999999999999, 1.3399999999999999, 1.7599999999999998, 2.1799999999999997, 2.5999999999999996, 3.0199999999999996, 3.4399999999999995, 3.8599999999999994, 4.279999999999999, 4.699999999999999, 5.119999999999999, 5.539999999999999, 5.959999999999999, 6.379999999999999, 6.800000000000001, 7.219999999999999, 7.640000000000001, 8.059999999999999, 8.48, 8.899999999999999, 9.32, 9.739999999999998, 10.16, 10.579999999999998, 11.0], \"line\": {\"width\": 3}, \"type\": \"scatter\"}], {\"xaxis\": {\"autotick\": false}, \"title\": \"<b>y = 14x + -2<br><b>x in range [-10,10]\"}, {\"linkText\": \"Export to plot.ly\", \"showLink\": true})});</script>"
      ]
     },
     "metadata": {},
     "output_type": "display_data"
    }
   ],
   "source": [
    "Polynomial(14,-2).plot()\n"
   ]
  },
  {
   "cell_type": "code",
   "execution_count": null,
   "metadata": {},
   "outputs": [],
   "source": [
    "(0 + 4) * (0 - 4) = 4 * -4 =  -16\n",
    "(0- 16) = -16"
   ]
  },
  {
   "cell_type": "code",
   "execution_count": null,
   "metadata": {},
   "outputs": [],
   "source": [
    "(a - b) * (a - b) = a^2 -b*a + -b*a + (-b)^2"
   ]
  },
  {
   "cell_type": "code",
   "execution_count": null,
   "metadata": {},
   "outputs": [],
   "source": [
    "(a - b) * (a - b) = a^2 + a*-b -b*a + (-b)^2"
   ]
  },
  {
   "cell_type": "code",
   "execution_count": null,
   "metadata": {},
   "outputs": [],
   "source": [
    "a*-b = -1 * a * b = - a*b - a*b = -2 * a * b"
   ]
  },
  {
   "cell_type": "code",
   "execution_count": null,
   "metadata": {},
   "outputs": [],
   "source": [
    "(x^2 +4)*(x^2 - 4) = x^4 - 16"
   ]
  },
  {
   "cell_type": "code",
   "execution_count": null,
   "metadata": {},
   "outputs": [],
   "source": [
    "x = 1\n",
    "\n",
    "(1^2 + 4) * (1^2 - 4)       ----- (1^4 - 16) = (1 - 16)\n",
    "\n",
    "(1 + 4) * (1 - 4)\n",
    "\n"
   ]
  },
  {
   "cell_type": "code",
   "execution_count": null,
   "metadata": {},
   "outputs": [],
   "source": [
    "1^2  = 1*1 = 1"
   ]
  },
  {
   "cell_type": "code",
   "execution_count": null,
   "metadata": {},
   "outputs": [],
   "source": []
  },
  {
   "cell_type": "code",
   "execution_count": null,
   "metadata": {},
   "outputs": [],
   "source": [
    "a^2 + b^2 -b*a + -b*a = a^2 + b^2 -2(b*a)"
   ]
  },
  {
   "cell_type": "code",
   "execution_count": null,
   "metadata": {},
   "outputs": [],
   "source": [
    "(-1)^2 = (-1)*(-1)"
   ]
  },
  {
   "cell_type": "code",
   "execution_count": null,
   "metadata": {},
   "outputs": [],
   "source": [
    "X = b*a"
   ]
  },
  {
   "cell_type": "code",
   "execution_count": null,
   "metadata": {},
   "outputs": [],
   "source": [
    "x + x = 2x\n",
    "\n",
    "-x + -x = -2x"
   ]
  },
  {
   "cell_type": "code",
   "execution_count": null,
   "metadata": {},
   "outputs": [],
   "source": [
    "(a + b)^2 = a^2 + 2*a*b + b^2"
   ]
  },
  {
   "cell_type": "code",
   "execution_count": 31,
   "metadata": {},
   "outputs": [
    {
     "name": "stdout",
     "output_type": "stream",
     "text": [
      "2x^2 + 1x + 1\n"
     ]
    }
   ],
   "source": [
    "print b"
   ]
  },
  {
   "cell_type": "code",
   "execution_count": 28,
   "metadata": {},
   "outputs": [
    {
     "data": {
      "text/plain": [
       "Polynomial(2, 3, 8, 4, 3)"
      ]
     },
     "execution_count": 28,
     "metadata": {},
     "output_type": "execute_result"
    }
   ],
   "source": [
    "(x + 3) * (x - 3) = ad + ac + db + dc"
   ]
  },
  {
   "cell_type": "code",
   "execution_count": null,
   "metadata": {},
   "outputs": [],
   "source": [
    "x*x + x*-3 + 3*x + -9"
   ]
  },
  {
   "cell_type": "code",
   "execution_count": null,
   "metadata": {},
   "outputs": [],
   "source": [
    "-3x + 3x"
   ]
  },
  {
   "cell_type": "code",
   "execution_count": null,
   "metadata": {},
   "outputs": [],
   "source": [
    "(x^2 + 3) * (2x - 5) = 1x * 2x + 1x*-5 + 3*2x + -15 = 2x^2 - 5x + 6x -15"
   ]
  },
  {
   "cell_type": "code",
   "execution_count": null,
   "metadata": {},
   "outputs": [],
   "source": [
    "(x^2 + 3) * (2x - 5) = ad + ac + db + dc = "
   ]
  },
  {
   "cell_type": "code",
   "execution_count": null,
   "metadata": {},
   "outputs": [],
   "source": [
    "a = x^2\n",
    "b = 3\n",
    "c = -5\n",
    "d = 2x\n",
    "\n",
    "\n",
    "ad + ac + db + dc\n",
    "\n",
    "(x^2)*(2x) (x^2)*-5 + (2x)*(3) + (2x)*-5\n",
    "2x^3 -5x^2 + -4x - 15\n"
   ]
  },
  {
   "cell_type": "code",
   "execution_count": null,
   "metadata": {},
   "outputs": [],
   "source": [
    "(a + b + c) * (d + e) = a*d + a*e + b*d + b*e + c*d + c*e"
   ]
  },
  {
   "cell_type": "code",
   "execution_count": null,
   "metadata": {},
   "outputs": [],
   "source": [
    "(a + b + c) * (d + e + f) = a*d +  a*e + a*f "
   ]
  },
  {
   "cell_type": "code",
   "execution_count": null,
   "metadata": {},
   "outputs": [],
   "source": [
    "(a + b + c + ... + N) * ( x + y + z + ... + H) = ax + ay + az a*... + a*h +"
   ]
  },
  {
   "cell_type": "code",
   "execution_count": null,
   "metadata": {},
   "outputs": [],
   "source": [
    "1(x^2) * 2x = 2 *(x^2 * x^1)"
   ]
  },
  {
   "cell_type": "code",
   "execution_count": null,
   "metadata": {},
   "outputs": [],
   "source": [
    "x * x * 2x = 2 * x * x * x = 2*x^3"
   ]
  },
  {
   "cell_type": "code",
   "execution_count": null,
   "metadata": {},
   "outputs": [],
   "source": [
    " * 2(x) = (3*2) * x"
   ]
  },
  {
   "cell_type": "code",
   "execution_count": 63,
   "metadata": {},
   "outputs": [
    {
     "name": "stdout",
     "output_type": "stream",
     "text": [
      "36x^11 + 63x^10 + 63x^9 + 36x^8 + 25x^7 + 33x^6 + 9x^5 + 48x^4 + 40x^3 + 3x^2 + 11x + 1\n"
     ]
    }
   ],
   "source": [
    "print Polynomial(4,3,0,1)*Polynomial(9,9,9,0,4,3,0,11,1)"
   ]
  },
  {
   "cell_type": "code",
   "execution_count": null,
   "metadata": {},
   "outputs": [],
   "source": [
    "3x * 5x^2 = 15*x*(x^2) = 15*x^3"
   ]
  },
  {
   "cell_type": "code",
   "execution_count": null,
   "metadata": {},
   "outputs": [],
   "source": [
    "(3x^2 + 5x + 2) * (2x + 1) = "
   ]
  },
  {
   "cell_type": "code",
   "execution_count": 58,
   "metadata": {},
   "outputs": [
    {
     "data": {
      "text/plain": [
       "Polynomial(6, 13, 9, 2)"
      ]
     },
     "execution_count": 58,
     "metadata": {},
     "output_type": "execute_result"
    }
   ],
   "source": [
    "Polynomial(3,5,2)*Polynomial(2,1)"
   ]
  },
  {
   "cell_type": "code",
   "execution_count": null,
   "metadata": {},
   "outputs": [],
   "source": [
    "2x^4 + 0x^3 + 3x^2 + 0x  + 1"
   ]
  },
  {
   "cell_type": "code",
   "execution_count": null,
   "metadata": {},
   "outputs": [],
   "source": [
    "3x^4 + 0x^3 + 0x^2+ 2x + 5"
   ]
  },
  {
   "cell_type": "code",
   "execution_count": 15,
   "metadata": {},
   "outputs": [
    {
     "name": "stdout",
     "output_type": "stream",
     "text": [
      "Polynomial a: x^2 + 5x + 3\n",
      "Polynomial b: 2x^2 + x + -3\n",
      "a + b: 3x^2 + 6x\n",
      "a - b: 4x^2 + 4x + 1\n",
      "a * b: 2x^4 + 1x^3 + 8x^2 + -12x + -9\n",
      "a / b: -x^4 + -4x^3 + 2x^2 + 3x\n"
     ]
    }
   ],
   "source": [
    "print \"\"\"Polynomial a: {A}\n",
    "Polynomial b: {B}\n",
    "a + b: {C}\n",
    "a - b: {D}\n",
    "a * b: {E}\n",
    "a / b: {F}\"\"\".format(A=a,\n",
    "                     B=b,\n",
    "                     C=a+b,\n",
    "                     D=a-b,\n",
    "                     E=a*b,\n",
    "                     F=a/b)"
   ]
  },
  {
   "cell_type": "code",
   "execution_count": null,
   "metadata": {},
   "outputs": [],
   "source": [
    "Polynomial(1,0,8)"
   ]
  },
  {
   "cell_type": "code",
   "execution_count": 34,
   "metadata": {},
   "outputs": [
    {
     "data": {
      "text/plain": [
       "16"
      ]
     },
     "execution_count": 34,
     "metadata": {},
     "output_type": "execute_result"
    }
   ],
   "source": [
    "2**4"
   ]
  },
  {
   "cell_type": "code",
   "execution_count": null,
   "metadata": {},
   "outputs": [],
   "source": []
  }
 ],
 "metadata": {
  "kernelspec": {
   "display_name": "Python 2",
   "language": "python",
   "name": "python2"
  },
  "language_info": {
   "codemirror_mode": {
    "name": "ipython",
    "version": 2
   },
   "file_extension": ".py",
   "mimetype": "text/x-python",
   "name": "python",
   "nbconvert_exporter": "python",
   "pygments_lexer": "ipython2",
   "version": "2.7.14"
  }
 },
 "nbformat": 4,
 "nbformat_minor": 2
}
